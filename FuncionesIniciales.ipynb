{
 "cells": [
  {
   "cell_type": "code",
   "execution_count": null,
   "metadata": {},
   "outputs": [],
   "source": [
    "# 1.Dinero\n",
    "dinero=20000\n",
    "#Función cuando se usa dinero en el taxi\n",
    "def taxi (x:int)->int:\n",
    "   x-=15000\n",
    "   return x\n",
    "#Función para ganar dinero (creo que puede ser una mecánica útil, por ahora solo añade 20000)\n",
    "def ganar_dinero (x:int)->int:\n",
    "   x+=20000\n",
    "   return x\n",
    "#Si se gasta dinero en el taxi\n",
    "if __name__ == \"__main__\":\n",
    "  x=dinero\n",
    "  dinero=taxi(x)\n",
    "#Si se gana dinero\n",
    "if __name__ == \"__main__\":\n",
    "  x=dinero\n",
    "  dinero=ganar_dinero(x)"
   ]
  },
  {
   "cell_type": "code",
   "execution_count": null,
   "metadata": {},
   "outputs": [],
   "source": [
    "# 2. Diario y bolígrafo\n",
    "bolígrafo=False\n",
    "diario=[]\n",
    "def escribir (x:str)->list:\n",
    "#Se determina si el diario está en blanco, si está en blanco, solo da la opción de escribir o no escribir\n",
    "    if len(diario)==0:\n",
    "        print(\"El diario está en blanco)\")\n",
    "        while x==True:\n",
    "            x=elección=input(\"\\t(1).Escribir algo nuevo \\n\\t(2).No escribir nada\\n\\t\")\n",
    "            if elección==\"1\":\n",
    "                diario.append(input(\"Escriba el texto que quiere añadir \"))\n",
    "            elif elección==\"2\":\n",
    "                print(\"Continuando\")\n",
    "#Si el jugador escribe otor elemento, el programa piede al jugador escoger entre las dos opciones\n",
    "            else:\n",
    "                print(\"por favor, escoja alguna de las opciones\")\n",
    "                x=True\n",
    "#Si no está en blanco, se imprime la lista y el jugador escoge si añade, elimina o edita notas, en el caso de editar, quita el elemento que se deasea y se inserta uno nuevo\n",
    "    else:\n",
    "        print(diario)\n",
    "        while x==True:\n",
    "            x=elección=input(\"\\t(1). Escribir algo nuevo\\n\\t(2).Borrar un elemento \\n\\t(3).Editar un elemento \\n\\t\")\n",
    "        if elección==\"1\":\n",
    "            diario.append(input(\"Escriba el texto que quiere añadir \"))\n",
    "        elif elección==\"2\":\n",
    "            eliminar=int(input(\"Escriba el número de la nota que desea eliminar \"))\n",
    "            eliminar-=1\n",
    "            diario.pop(eliminar)\n",
    "#Para editar, se elimina el elemento de la lista y se añade la nueva nota en el mismo lugar\n",
    "        elif elección==\"3\":\n",
    "            modificar=int(input(\"Escriba el número de la nota que desea editar \"))\n",
    "            modificar-=1\n",
    "            diario.pop(modificar)\n",
    "            diario.insert(modificar,input(\"Escriba la nueva nota \"))\n",
    "#Si el jugador escribe otor elemento, el programa piede al jugador escoger entre las dos opciones\n",
    "        else:\n",
    "            print(\"Por favor, escoja alguna de las opciones\")\n",
    "            x=True\n",
    "#Para ejecutar el diario\n",
    "if __name__ == \"__main__\":\n",
    "  x=True\n",
    "  escribir(x)\n",
    "#Si se ejecuta por el bolígrafo, se pondría esto\n",
    "  if __name__ == \"__main__\":\n",
    "    papelescribir=True\n",
    "    while papelescribir==True:\n",
    "#EL jugador escoge dónde escribir, se escoge el diario, se corre la función \"escribir\", si se escoge las cartas, no se permite porque son pruebas, si escribe otra cosa, el programa pide escoger una opción\n",
    "        papelescribir=input(\"¿En dónde quieres escribir?\\n\\t(1).Diario\\n\\t(2).Cartas\")\n",
    "        if papelesescribir==\"1\":\n",
    "            bolígrafo=True\n",
    "            escribir(bolígrafo)\n",
    "        elif papelesescribir==\"2\":\n",
    "            print(\"´No puedo comprometer las purebas´\")\n",
    "        else:\n",
    "            print(\"Por favor escoger una opción \")\n",
    "            papelesescribir=True\n"
   ]
  },
  {
   "cell_type": "code",
   "execution_count": null,
   "metadata": {},
   "outputs": [],
   "source": [
    "#Mochila\n",
    "mochila=[dinero,diario,bolígrafo,cartera,lupa]"
   ]
  }
 ],
 "metadata": {
  "kernelspec": {
   "display_name": "Python 3",
   "language": "python",
   "name": "python3"
  },
  "language_info": {
   "codemirror_mode": {
    "name": "ipython",
    "version": 3
   },
   "file_extension": ".py",
   "mimetype": "text/x-python",
   "name": "python",
   "nbconvert_exporter": "python",
   "pygments_lexer": "ipython3",
   "version": "3.12.2"
  }
 },
 "nbformat": 4,
 "nbformat_minor": 2
}
