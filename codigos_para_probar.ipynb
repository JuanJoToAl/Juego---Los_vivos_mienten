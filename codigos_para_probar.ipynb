{
 "cells": [
  {
   "cell_type": "code",
   "execution_count": 4,
   "metadata": {},
   "outputs": [
    {
     "name": "stdout",
     "output_type": "stream",
     "text": [
      "\u001b[3mEste es un texto en cursiva.\n",
      "Este es un texto en cursiva.\n"
     ]
    }
   ],
   "source": [
    "def imprimir_cursiva(texto):\n",
    "\n",
    "    \n",
    "    print(f\"\\033[3m{texto}\\033[0m\")\n",
    "    print(f\"{texto}\")\n",
    "\n",
    "# Ejemplo de uso\n",
    "imprimir_cursiva(\"Este es un texto en cursiva.\")\n"
   ]
  }
 ],
 "metadata": {
  "kernelspec": {
   "display_name": "Python 3",
   "language": "python",
   "name": "python3"
  },
  "language_info": {
   "codemirror_mode": {
    "name": "ipython",
    "version": 3
   },
   "file_extension": ".py",
   "mimetype": "text/x-python",
   "name": "python",
   "nbconvert_exporter": "python",
   "pygments_lexer": "ipython3",
   "version": "3.12.2"
  }
 },
 "nbformat": 4,
 "nbformat_minor": 2
}
